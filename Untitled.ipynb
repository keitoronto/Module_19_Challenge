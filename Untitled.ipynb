{
 "cells": [
  {
   "cell_type": "code",
   "execution_count": 1,
   "id": "f78cb0c3-0568-482c-8fc2-a03c34cdcd18",
   "metadata": {},
   "outputs": [
    {
     "name": "stdout",
     "output_type": "stream",
     "text": [
      "Default Account: 0x5E9c54e9838A78c5396DC3813B90512074a565A9\n",
      "Balance (wei): 100000000000000000000\n",
      "Balance (ether): 100\n"
     ]
    }
   ],
   "source": [
    "from web3 import Web3\n",
    "\n",
    "# Connect to Ganache\n",
    "w3 = Web3(Web3.HTTPProvider('http://127.0.0.1:7545'))\n",
    "\n",
    "# Get the default account\n",
    "default_account = w3.eth.accounts[0]\n",
    "\n",
    "# Get the balance of the default account in ether\n",
    "balance_wei = w3.eth.get_balance(default_account)\n",
    "balance_eth = w3.fromWei(balance_wei, 'ether')\n",
    "\n",
    "print(f\"Default Account: {default_account}\")\n",
    "print(f\"Balance (wei): {balance_wei}\")\n",
    "print(f\"Balance (ether): {balance_eth}\")"
   ]
  },
  {
   "cell_type": "code",
   "execution_count": null,
   "id": "0240d645-7b5f-465b-a848-9080ef0ed747",
   "metadata": {},
   "outputs": [],
   "source": []
  }
 ],
 "metadata": {
  "kernelspec": {
   "display_name": "Python 3 (ipykernel)",
   "language": "python",
   "name": "python3"
  },
  "language_info": {
   "codemirror_mode": {
    "name": "ipython",
    "version": 3
   },
   "file_extension": ".py",
   "mimetype": "text/x-python",
   "name": "python",
   "nbconvert_exporter": "python",
   "pygments_lexer": "ipython3",
   "version": "3.7.15"
  }
 },
 "nbformat": 4,
 "nbformat_minor": 5
}
